{
 "cells": [
  {
   "cell_type": "markdown",
   "id": "8e79aaef",
   "metadata": {},
   "source": [
    "## 사이킷런을 활용한 MLFlow"
   ]
  },
  {
   "cell_type": "code",
   "execution_count": 1,
   "id": "581a3c96",
   "metadata": {},
   "outputs": [
    {
     "name": "stdout",
     "output_type": "stream",
     "text": [
      "Requirement already satisfied: mlflow in c:\\users\\jyshin\\anaconda3\\lib\\site-packages (2.1.1)\n",
      "Requirement already satisfied: shap<1,>=0.40 in c:\\users\\jyshin\\anaconda3\\lib\\site-packages (from mlflow) (0.41.0)\n",
      "Requirement already satisfied: databricks-cli<1,>=0.8.7 in c:\\users\\jyshin\\anaconda3\\lib\\site-packages (from mlflow) (0.17.4)\n",
      "Requirement already satisfied: alembic<2 in c:\\users\\jyshin\\anaconda3\\lib\\site-packages (from mlflow) (1.9.2)\n",
      "Requirement already satisfied: docker<7,>=4.0.0 in c:\\users\\jyshin\\anaconda3\\lib\\site-packages (from mlflow) (6.0.1)\n",
      "Requirement already satisfied: click<9,>=7.0 in c:\\users\\jyshin\\anaconda3\\lib\\site-packages (from mlflow) (8.0.3)\n",
      "Requirement already satisfied: protobuf<5,>=3.12.0 in c:\\users\\jyshin\\anaconda3\\lib\\site-packages (from mlflow) (4.21.12)\n",
      "Requirement already satisfied: packaging<23 in c:\\users\\jyshin\\anaconda3\\lib\\site-packages (from mlflow) (22.0)\n",
      "Requirement already satisfied: querystring-parser<2 in c:\\users\\jyshin\\anaconda3\\lib\\site-packages (from mlflow) (1.2.4)\n",
      "Requirement already satisfied: entrypoints<1 in c:\\users\\jyshin\\anaconda3\\lib\\site-packages (from mlflow) (0.3)\n",
      "Requirement already satisfied: Flask<3 in c:\\users\\jyshin\\anaconda3\\lib\\site-packages (from mlflow) (1.1.2)\n",
      "Requirement already satisfied: gitpython<4,>=2.1.0 in c:\\users\\jyshin\\anaconda3\\lib\\site-packages (from mlflow) (3.1.30)\n",
      "Requirement already satisfied: markdown<4,>=3.3 in c:\\users\\jyshin\\anaconda3\\lib\\site-packages (from mlflow) (3.4.1)\n",
      "Requirement already satisfied: scipy<2 in c:\\users\\jyshin\\anaconda3\\lib\\site-packages (from mlflow) (1.7.1)\n",
      "Requirement already satisfied: pandas<2 in c:\\users\\jyshin\\anaconda3\\lib\\site-packages (from mlflow) (1.3.4)\n",
      "Requirement already satisfied: pyarrow<11,>=4.0.0 in c:\\users\\jyshin\\anaconda3\\lib\\site-packages (from mlflow) (10.0.1)\n",
      "Requirement already satisfied: cloudpickle<3 in c:\\users\\jyshin\\anaconda3\\lib\\site-packages (from mlflow) (2.0.0)\n",
      "Requirement already satisfied: sqlalchemy<2,>=1.4.0 in c:\\users\\jyshin\\anaconda3\\lib\\site-packages (from mlflow) (1.4.22)\n",
      "Requirement already satisfied: sqlparse<1,>=0.4.0 in c:\\users\\jyshin\\anaconda3\\lib\\site-packages (from mlflow) (0.4.2)\n",
      "Requirement already satisfied: waitress<3 in c:\\users\\jyshin\\anaconda3\\lib\\site-packages (from mlflow) (2.1.2)\n",
      "Requirement already satisfied: numpy<2 in c:\\users\\jyshin\\anaconda3\\lib\\site-packages (from mlflow) (1.20.3)\n",
      "Requirement already satisfied: matplotlib<4 in c:\\users\\jyshin\\anaconda3\\lib\\site-packages (from mlflow) (3.4.3)\n",
      "Requirement already satisfied: importlib-metadata!=4.7.0,<6,>=3.7.0 in c:\\users\\jyshin\\anaconda3\\lib\\site-packages (from mlflow) (4.8.1)\n",
      "Requirement already satisfied: requests<3,>=2.17.3 in c:\\users\\jyshin\\anaconda3\\lib\\site-packages (from mlflow) (2.26.0)\n",
      "Requirement already satisfied: scikit-learn<2 in c:\\users\\jyshin\\anaconda3\\lib\\site-packages (from mlflow) (0.24.2)\n",
      "Requirement already satisfied: pyyaml<7,>=5.1 in c:\\users\\jyshin\\anaconda3\\lib\\site-packages (from mlflow) (6.0)\n",
      "Requirement already satisfied: Jinja2<4,>=3.0 in c:\\users\\jyshin\\anaconda3\\lib\\site-packages (from mlflow) (3.0.3)\n",
      "Requirement already satisfied: pytz<2023 in c:\\users\\jyshin\\anaconda3\\lib\\site-packages (from mlflow) (2021.3)\n",
      "Requirement already satisfied: Mako in c:\\users\\jyshin\\anaconda3\\lib\\site-packages (from alembic<2->mlflow) (1.2.4)\n",
      "Requirement already satisfied: colorama in c:\\users\\jyshin\\anaconda3\\lib\\site-packages (from click<9,>=7.0->mlflow) (0.4.4)\n",
      "Requirement already satisfied: tabulate>=0.7.7 in c:\\users\\jyshin\\anaconda3\\lib\\site-packages (from databricks-cli<1,>=0.8.7->mlflow) (0.9.0)\n",
      "Requirement already satisfied: pyjwt>=1.7.0 in c:\\users\\jyshin\\anaconda3\\lib\\site-packages (from databricks-cli<1,>=0.8.7->mlflow) (2.1.0)\n",
      "Requirement already satisfied: oauthlib>=3.1.0 in c:\\users\\jyshin\\anaconda3\\lib\\site-packages (from databricks-cli<1,>=0.8.7->mlflow) (3.2.2)\n",
      "Requirement already satisfied: six>=1.10.0 in c:\\users\\jyshin\\anaconda3\\lib\\site-packages (from databricks-cli<1,>=0.8.7->mlflow) (1.16.0)\n",
      "Requirement already satisfied: urllib3>=1.26.0 in c:\\users\\jyshin\\anaconda3\\lib\\site-packages (from docker<7,>=4.0.0->mlflow) (1.26.7)\n",
      "Requirement already satisfied: websocket-client>=0.32.0 in c:\\users\\jyshin\\anaconda3\\lib\\site-packages (from docker<7,>=4.0.0->mlflow) (1.4.2)\n",
      "Requirement already satisfied: pywin32>=304 in c:\\users\\jyshin\\anaconda3\\lib\\site-packages (from docker<7,>=4.0.0->mlflow) (305)\n",
      "Requirement already satisfied: itsdangerous>=0.24 in c:\\users\\jyshin\\anaconda3\\lib\\site-packages (from Flask<3->mlflow) (2.0.1)\n",
      "Requirement already satisfied: Werkzeug>=0.15 in c:\\users\\jyshin\\anaconda3\\lib\\site-packages (from Flask<3->mlflow) (2.0.2)\n",
      "Requirement already satisfied: gitdb<5,>=4.0.1 in c:\\users\\jyshin\\anaconda3\\lib\\site-packages (from gitpython<4,>=2.1.0->mlflow) (4.0.10)\n",
      "Requirement already satisfied: smmap<6,>=3.0.1 in c:\\users\\jyshin\\anaconda3\\lib\\site-packages (from gitdb<5,>=4.0.1->gitpython<4,>=2.1.0->mlflow) (5.0.0)\n",
      "Requirement already satisfied: zipp>=0.5 in c:\\users\\jyshin\\anaconda3\\lib\\site-packages (from importlib-metadata!=4.7.0,<6,>=3.7.0->mlflow) (3.6.0)\n",
      "Requirement already satisfied: MarkupSafe>=2.0 in c:\\users\\jyshin\\anaconda3\\lib\\site-packages (from Jinja2<4,>=3.0->mlflow) (2.1.2)\n",
      "Requirement already satisfied: pyparsing>=2.2.1 in c:\\users\\jyshin\\anaconda3\\lib\\site-packages (from matplotlib<4->mlflow) (3.0.4)\n",
      "Requirement already satisfied: cycler>=0.10 in c:\\users\\jyshin\\anaconda3\\lib\\site-packages (from matplotlib<4->mlflow) (0.10.0)\n",
      "Requirement already satisfied: kiwisolver>=1.0.1 in c:\\users\\jyshin\\anaconda3\\lib\\site-packages (from matplotlib<4->mlflow) (1.3.1)\n",
      "Requirement already satisfied: python-dateutil>=2.7 in c:\\users\\jyshin\\anaconda3\\lib\\site-packages (from matplotlib<4->mlflow) (2.8.2)\n",
      "Requirement already satisfied: pillow>=6.2.0 in c:\\users\\jyshin\\anaconda3\\lib\\site-packages (from matplotlib<4->mlflow) (8.4.0)\n",
      "Requirement already satisfied: idna<4,>=2.5 in c:\\users\\jyshin\\anaconda3\\lib\\site-packages (from requests<3,>=2.17.3->mlflow) (3.2)\n",
      "Requirement already satisfied: charset-normalizer~=2.0.0 in c:\\users\\jyshin\\anaconda3\\lib\\site-packages (from requests<3,>=2.17.3->mlflow) (2.0.4)\n",
      "Requirement already satisfied: certifi>=2017.4.17 in c:\\users\\jyshin\\anaconda3\\lib\\site-packages (from requests<3,>=2.17.3->mlflow) (2022.12.7)\n",
      "Requirement already satisfied: threadpoolctl>=2.0.0 in c:\\users\\jyshin\\anaconda3\\lib\\site-packages (from scikit-learn<2->mlflow) (2.2.0)\n",
      "Requirement already satisfied: joblib>=0.11 in c:\\users\\jyshin\\anaconda3\\lib\\site-packages (from scikit-learn<2->mlflow) (1.1.0)\n",
      "Requirement already satisfied: tqdm>4.25.0 in c:\\users\\jyshin\\anaconda3\\lib\\site-packages (from shap<1,>=0.40->mlflow) (4.62.3)\n",
      "Requirement already satisfied: slicer==0.0.7 in c:\\users\\jyshin\\anaconda3\\lib\\site-packages (from shap<1,>=0.40->mlflow) (0.0.7)\n",
      "Requirement already satisfied: numba in c:\\users\\jyshin\\anaconda3\\lib\\site-packages (from shap<1,>=0.40->mlflow) (0.54.1)\n",
      "Requirement already satisfied: greenlet!=0.4.17 in c:\\users\\jyshin\\anaconda3\\lib\\site-packages (from sqlalchemy<2,>=1.4.0->mlflow) (1.1.1)\n",
      "Requirement already satisfied: llvmlite<0.38,>=0.37.0rc1 in c:\\users\\jyshin\\anaconda3\\lib\\site-packages (from numba->shap<1,>=0.40->mlflow) (0.37.0)\n",
      "Requirement already satisfied: setuptools in c:\\users\\jyshin\\anaconda3\\lib\\site-packages (from numba->shap<1,>=0.40->mlflow) (58.0.4)\n"
     ]
    }
   ],
   "source": [
    "# MLFlow 설치\n",
    "!pip install mlflow"
   ]
  },
  {
   "cell_type": "code",
   "execution_count": 2,
   "id": "c8e966e7",
   "metadata": {},
   "outputs": [
    {
     "name": "stdout",
     "output_type": "stream",
     "text": [
      "Numpy: 1.20.3\n",
      "Pandas: 1.3.4\n",
      "matplotlib: 3.4.3\n",
      "seaborn: 0.11.2\n",
      "scikit-learn: 0.24.2\n",
      "MLFlow: 2.1.1\n"
     ]
    }
   ],
   "source": [
    "# 활용한 라이브러리 환경\n",
    "import numpy as np\n",
    "import pandas as pd\n",
    "import matplotlib #\n",
    "import matplotlib.pyplot as plt\n",
    "import seaborn as sns\n",
    "import sklearn #\n",
    "from sklearn.linear_model import LogisticRegression\n",
    "from sklearn.model_selection import train_test_split\n",
    "from sklearn.preprocessing import StandardScaler\n",
    "from sklearn.metrics import roc_auc_score, plot_roc_curve, confusion_matrix\n",
    "from sklearn.model_selection import KFold\n",
    "\n",
    "import mlflow\n",
    "import mlflow.sklearn\n",
    "\n",
    "print('Numpy: {}'.format(np.__version__))\n",
    "print('Pandas: {}'.format(pd.__version__))\n",
    "print('matplotlib: {}'.format(matplotlib.__version__))\n",
    "print('seaborn: {}'.format(sns.__version__))\n",
    "print('scikit-learn: {}'.format(sklearn.__version__))\n",
    "print('MLFlow: {}'.format(mlflow.__version__))"
   ]
  },
  {
   "cell_type": "markdown",
   "id": "6d84a71e",
   "metadata": {},
   "source": [
    "## 데이터 처리"
   ]
  },
  {
   "cell_type": "code",
   "execution_count": 3,
   "id": "c0d5e6a8",
   "metadata": {},
   "outputs": [
    {
     "data": {
      "text/plain": "         V1        V2        V3        V4        V5        V6        V7  \\\n0 -1.359807 -0.072781  2.536347  1.378155 -0.338321  0.462388  0.239599   \n1  1.191857  0.266151  0.166480  0.448154  0.060018 -0.082361 -0.078803   \n2 -1.358354 -1.340163  1.773209  0.379780 -0.503198  1.800499  0.791461   \n3 -0.966272 -0.185226  1.792993 -0.863291 -0.010309  1.247203  0.237609   \n4 -1.158233  0.877737  1.548718  0.403034 -0.407193  0.095921  0.592941   \n\n         V8        V9       V10  ...       V21       V22       V23       V24  \\\n0  0.098698  0.363787  0.090794  ... -0.018307  0.277838 -0.110474  0.066928   \n1  0.085102 -0.255425 -0.166974  ... -0.225775 -0.638672  0.101288 -0.339846   \n2  0.247676 -1.514654  0.207643  ...  0.247998  0.771679  0.909412 -0.689281   \n3  0.377436 -1.387024 -0.054952  ... -0.108300  0.005274 -0.190321 -1.175575   \n4 -0.270533  0.817739  0.753074  ... -0.009431  0.798278 -0.137458  0.141267   \n\n        V25       V26       V27       V28  Amount  Class  \n0  0.128539 -0.189115  0.133558 -0.021053  149.62      0  \n1  0.167170  0.125895 -0.008983  0.014724    2.69      0  \n2 -0.327642 -0.139097 -0.055353 -0.059752  378.66      0  \n3  0.647376 -0.221929  0.062723  0.061458  123.50      0  \n4 -0.206010  0.502292  0.219422  0.215153   69.99      0  \n\n[5 rows x 30 columns]",
      "text/html": "<div>\n<style scoped>\n    .dataframe tbody tr th:only-of-type {\n        vertical-align: middle;\n    }\n\n    .dataframe tbody tr th {\n        vertical-align: top;\n    }\n\n    .dataframe thead th {\n        text-align: right;\n    }\n</style>\n<table border=\"1\" class=\"dataframe\">\n  <thead>\n    <tr style=\"text-align: right;\">\n      <th></th>\n      <th>V1</th>\n      <th>V2</th>\n      <th>V3</th>\n      <th>V4</th>\n      <th>V5</th>\n      <th>V6</th>\n      <th>V7</th>\n      <th>V8</th>\n      <th>V9</th>\n      <th>V10</th>\n      <th>...</th>\n      <th>V21</th>\n      <th>V22</th>\n      <th>V23</th>\n      <th>V24</th>\n      <th>V25</th>\n      <th>V26</th>\n      <th>V27</th>\n      <th>V28</th>\n      <th>Amount</th>\n      <th>Class</th>\n    </tr>\n  </thead>\n  <tbody>\n    <tr>\n      <th>0</th>\n      <td>-1.359807</td>\n      <td>-0.072781</td>\n      <td>2.536347</td>\n      <td>1.378155</td>\n      <td>-0.338321</td>\n      <td>0.462388</td>\n      <td>0.239599</td>\n      <td>0.098698</td>\n      <td>0.363787</td>\n      <td>0.090794</td>\n      <td>...</td>\n      <td>-0.018307</td>\n      <td>0.277838</td>\n      <td>-0.110474</td>\n      <td>0.066928</td>\n      <td>0.128539</td>\n      <td>-0.189115</td>\n      <td>0.133558</td>\n      <td>-0.021053</td>\n      <td>149.62</td>\n      <td>0</td>\n    </tr>\n    <tr>\n      <th>1</th>\n      <td>1.191857</td>\n      <td>0.266151</td>\n      <td>0.166480</td>\n      <td>0.448154</td>\n      <td>0.060018</td>\n      <td>-0.082361</td>\n      <td>-0.078803</td>\n      <td>0.085102</td>\n      <td>-0.255425</td>\n      <td>-0.166974</td>\n      <td>...</td>\n      <td>-0.225775</td>\n      <td>-0.638672</td>\n      <td>0.101288</td>\n      <td>-0.339846</td>\n      <td>0.167170</td>\n      <td>0.125895</td>\n      <td>-0.008983</td>\n      <td>0.014724</td>\n      <td>2.69</td>\n      <td>0</td>\n    </tr>\n    <tr>\n      <th>2</th>\n      <td>-1.358354</td>\n      <td>-1.340163</td>\n      <td>1.773209</td>\n      <td>0.379780</td>\n      <td>-0.503198</td>\n      <td>1.800499</td>\n      <td>0.791461</td>\n      <td>0.247676</td>\n      <td>-1.514654</td>\n      <td>0.207643</td>\n      <td>...</td>\n      <td>0.247998</td>\n      <td>0.771679</td>\n      <td>0.909412</td>\n      <td>-0.689281</td>\n      <td>-0.327642</td>\n      <td>-0.139097</td>\n      <td>-0.055353</td>\n      <td>-0.059752</td>\n      <td>378.66</td>\n      <td>0</td>\n    </tr>\n    <tr>\n      <th>3</th>\n      <td>-0.966272</td>\n      <td>-0.185226</td>\n      <td>1.792993</td>\n      <td>-0.863291</td>\n      <td>-0.010309</td>\n      <td>1.247203</td>\n      <td>0.237609</td>\n      <td>0.377436</td>\n      <td>-1.387024</td>\n      <td>-0.054952</td>\n      <td>...</td>\n      <td>-0.108300</td>\n      <td>0.005274</td>\n      <td>-0.190321</td>\n      <td>-1.175575</td>\n      <td>0.647376</td>\n      <td>-0.221929</td>\n      <td>0.062723</td>\n      <td>0.061458</td>\n      <td>123.50</td>\n      <td>0</td>\n    </tr>\n    <tr>\n      <th>4</th>\n      <td>-1.158233</td>\n      <td>0.877737</td>\n      <td>1.548718</td>\n      <td>0.403034</td>\n      <td>-0.407193</td>\n      <td>0.095921</td>\n      <td>0.592941</td>\n      <td>-0.270533</td>\n      <td>0.817739</td>\n      <td>0.753074</td>\n      <td>...</td>\n      <td>-0.009431</td>\n      <td>0.798278</td>\n      <td>-0.137458</td>\n      <td>0.141267</td>\n      <td>-0.206010</td>\n      <td>0.502292</td>\n      <td>0.219422</td>\n      <td>0.215153</td>\n      <td>69.99</td>\n      <td>0</td>\n    </tr>\n  </tbody>\n</table>\n<p>5 rows × 30 columns</p>\n</div>"
     },
     "execution_count": 3,
     "metadata": {},
     "output_type": "execute_result"
    }
   ],
   "source": [
    "# 활용한 데이터는 신용카드 부정 탐지 데이터\n",
    "# data url : https://www.kaggle.com/datasets/mlg-ulb/creditcardfraud\n",
    "df = pd.read_csv('creditcard.csv')\n",
    "df = df.drop('Time', axis=1)\n",
    "df.head()"
   ]
  },
  {
   "cell_type": "code",
   "execution_count": 4,
   "id": "fa6c8a07",
   "metadata": {},
   "outputs": [
    {
     "name": "stdout",
     "output_type": "stream",
     "text": [
      "Normal: (142158, 30)\n",
      "Anormaly: (492, 30)\n"
     ]
    }
   ],
   "source": [
    "# 정상 지점과 이상 징후 분할\n",
    "normal = df[df.Class == 0].sample(frac=0.5, random_state=2020).reset_index(drop=True)\n",
    "abnormal = df[df.Class == 1]\n",
    "\n",
    "print(f\"Normal: {normal.shape}\")\n",
    "print(f\"Anormaly: {abnormal.shape}\")"
   ]
  },
  {
   "cell_type": "code",
   "execution_count": 5,
   "id": "caccb8fb",
   "metadata": {},
   "outputs": [],
   "source": [
    "# 정상 및 이상 데이터를 train / test/ validation 데이터 셋으로 분할\n",
    "# train / test/ val = 0.6 / 0.2 / 0.2\n",
    "normal_train, normal_test = train_test_split(normal, test_size=0.2, random_state=2020)\n",
    "abnormal_train, abnormal_test = train_test_split(abnormal, test_size=0.2, random_state=2020)\n",
    "normal_train, normal_validate = train_test_split(normal_train, test_size=0.25, random_state=2020)\n",
    "abnormal_train, abnormal_validate = train_test_split(abnormal_train, test_size=0.25, random_state=2020)"
   ]
  },
  {
   "cell_type": "code",
   "execution_count": 6,
   "id": "92a87c10",
   "metadata": {},
   "outputs": [],
   "source": [
    "# 데이터 x, y 분할\n",
    "x_train = pd.concat((normal_train, abnormal_train))\n",
    "x_test = pd.concat((normal_test, abnormal_test))\n",
    "x_validate = pd.concat((normal_validate, abnormal_validate))\n",
    "\n",
    "y_train = np.array(x_train[\"Class\"])\n",
    "y_test = np.array(x_test[\"Class\"])\n",
    "y_validate = np.array(x_validate[\"Class\"])\n",
    "\n",
    "x_train = x_train.drop(\"Class\", axis=1)\n",
    "x_test = x_test.drop(\"Class\", axis=1)\n",
    "x_validate = x_validate.drop(\"Class\", axis=1)"
   ]
  },
  {
   "cell_type": "code",
   "execution_count": 7,
   "id": "203af77d",
   "metadata": {},
   "outputs": [
    {
     "name": "stdout",
     "output_type": "stream",
     "text": [
      "Train set:\n",
      "x_train:(85588, 29) \n",
      "y_train:(85588,)\n",
      "\n",
      "Test set:\n",
      "x_test:(28531, 29) \n",
      "y_test:(28531,)\n",
      "\n",
      "Val set:\n",
      "x_train:(28531, 29) \n",
      "y_validate:(28531,)\n"
     ]
    }
   ],
   "source": [
    "# 데이터셋 확인\n",
    "print('Train set:\\nx_train:{} \\ny_train:{}'.format(x_train.shape, y_train.shape))\n",
    "print('\\nTest set:\\nx_test:{} \\ny_test:{}'.format(x_test.shape, y_test.shape))\n",
    "print('\\nVal set:\\nx_train:{} \\ny_validate:{}'.format(x_validate.shape, y_validate.shape))"
   ]
  },
  {
   "cell_type": "code",
   "execution_count": 8,
   "id": "1e342520",
   "metadata": {},
   "outputs": [],
   "source": [
    "# 데이터 scale\n",
    "scaler = StandardScaler()\n",
    "scaler.fit(pd.concat((normal, abnormal)).drop(\"Class\", axis=1))\n",
    "x_train = scaler.transform(x_train)\n",
    "x_test = scaler.transform(x_test)\n",
    "x_validate = scaler.transform(x_validate)"
   ]
  },
  {
   "cell_type": "markdown",
   "id": "d3e185a6",
   "metadata": {},
   "source": [
    "## MLFlow를 통한 학습 및 평가"
   ]
  },
  {
   "cell_type": "code",
   "execution_count": 9,
   "id": "71a82f3e",
   "metadata": {},
   "outputs": [],
   "source": [
    "# 학습 기능 정의\n",
    "# 학습 후 정확도 지표를 출력할 수 있도록 정의\n",
    "def train(sk_model, x_train, y_train):\n",
    "    sk_model = sk_model.fit(x_train, y_train)\n",
    "    train_acc = sk_model.score(x_train, y_train)\n",
    "    mlflow.log_metric(\"train_acc\", train_acc)\n",
    "    print(f\"Train Accuracy: {train_acc:.3%}\")"
   ]
  },
  {
   "cell_type": "code",
   "execution_count": 10,
   "id": "e24927ea",
   "metadata": {},
   "outputs": [],
   "source": [
    "# 평가 기능 정의\n",
    "# 지표를 비교해 AUC 점수가 가장 높은 모델을 선택하도록 평가 함수 정의\n",
    "def evaluate(sk_model, x_test, y_test):\n",
    "    eval_acc = sk_model.score(x_test, y_test)\n",
    "    preds = sk_model.predict(x_test)\n",
    "    auc_score = roc_auc_score(y_test, preds)\n",
    "    mlflow.log_metric(\"eval_acc\", eval_acc)    # MLFlow에 AUC Score 로깅\n",
    "    mlflow.log_metric(\"auc_score\", auc_score)  # MLFlow에 Accuracy 로깅\n",
    "    print(f\"AUC Score: {auc_score:.3%}\")\n",
    "    print(f\"Eval Accuracy: {eval_acc:.3%}\")\n",
    "    # metric 시각화 및 파일 저장\n",
    "    roc_plot = plot_roc_curve(sk_model, x_test, y_test, name='scikit-learn ROC Curve')\n",
    "    plt.savefig(\"sklearn_roc_plot.png\")\n",
    "    plt.show()\n",
    "    plt.clf()\n",
    "    conf_matrix = confusion_matrix(y_test, preds)\n",
    "    ax = sns.heatmap(conf_matrix, annot=True, fmt='g')\n",
    "    ax.invert_xaxis()\n",
    "    ax.invert_yaxis()\n",
    "    plt.ylabel('Actual')\n",
    "    plt.xlabel('Predicted')\n",
    "    plt.title(\"Confusion Matrix\")\n",
    "    plt.savefig(\"sklearn_conf_matrix.png\")\n",
    "    mlflow.log_artifact(\"sklearn_roc_plot.png\")\n",
    "    mlflow.log_artifact(\"sklearn_conf_matrix.png\")"
   ]
  },
  {
   "cell_type": "markdown",
   "id": "be98cc68",
   "metadata": {},
   "source": [
    "## MLFlow 실행 로깅 및 확인"
   ]
  },
  {
   "cell_type": "code",
   "execution_count": 11,
   "id": "fe04b502",
   "metadata": {},
   "outputs": [
    {
     "name": "stdout",
     "output_type": "stream",
     "text": [
      "Train Accuracy: 99.893%\n",
      "AUC Score: 85.341%\n",
      "Eval Accuracy: 99.874%\n"
     ]
    },
    {
     "data": {
      "text/plain": "<Figure size 432x288 with 1 Axes>",
      "image/png": "[encoded data removed]"
     },
     "metadata": {},
     "output_type": "display_data"
    },
    {
     "name": "stdout",
     "output_type": "stream",
     "text": [
      "Model run:  85a4a757025f4d4e9b45fb91062b61ef\n"
     ]
    },
    {
     "data": {
      "text/plain": "<Figure size 432x288 with 2 Axes>",
      "image/png": "[encoded data removed]"
     },
     "metadata": {},
     "output_type": "display_data"
    }
   ],
   "source": [
    "sk_model = LogisticRegression(random_state=None, max_iter=400, solver='newton-cg')\n",
    "mlflow.set_experiment(\"scikit_learn_experiment\")  # MLFlow 실험 이름 정의\n",
    "with mlflow.start_run():\n",
    "    train(sk_model, x_train, y_train)\n",
    "    evaluate(sk_model, x_test, y_test)\n",
    "    mlflow.sklearn.log_model(sk_model, \"log_reg_model\")\n",
    "    print(\"Model run: \", mlflow.active_run().info.run_uuid)\n",
    "mlflow.end_run()"
   ]
  },
  {
   "cell_type": "code",
   "execution_count": 17,
   "id": "061fecae",
   "metadata": {},
   "outputs": [],
   "source": [
    "# powershell에서 mlflow ui -p 1234 입력\n",
    "# 만약 ImportError: cannot import name 'escape' from 'jinja2' (C:\\Users\\jyshin\\anaconda3\\lib\\site-packages\\jinja2\\__init__.py) 에러 날 경우 pip install jinja2==3.0.3"
   ]
  },
  {
   "cell_type": "markdown",
   "id": "bc80b9af",
   "metadata": {},
   "source": [
    "## 로깅된 모델 적재"
   ]
  },
  {
   "cell_type": "code",
   "execution_count": 20,
   "id": "8e9d10ee",
   "metadata": {},
   "outputs": [],
   "source": [
    "loaded_model = mlflow.sklearn.load_model(\"runs:/bdfd5bcf28a64516bffd40a06bb5b2e8/log_reg_model\")"
   ]
  },
  {
   "cell_type": "code",
   "execution_count": 21,
   "id": "18c10b32",
   "metadata": {},
   "outputs": [
    {
     "data": {
      "text/plain": [
       "0.9987382145736217"
      ]
     },
     "execution_count": 21,
     "metadata": {},
     "output_type": "execute_result"
    }
   ],
   "source": [
    "# 저장한 모델을 가지고 바로 score를 확인할 수 있음\n",
    "loaded_model.score(x_test, y_test)"
   ]
  },
  {
   "cell_type": "markdown",
   "id": "05fcfc52",
   "metadata": {},
   "source": [
    "## API 서빙"
   ]
  },
  {
   "cell_type": "code",
   "execution_count": 28,
   "id": "6fcba76b",
   "metadata": {},
   "outputs": [
    {
     "name": "stdout",
     "output_type": "stream",
     "text": [
      "[[-1.17362921  1.31797632 -0.73359473 ...  1.20727226  0.99802045\n",
      "  -0.32742236]\n",
      " [-0.39215527  0.6299131   0.79925401 ... -0.06476623  0.15898721\n",
      "  -0.33791875]\n",
      " [ 0.01896693 -0.38831066  0.30187387 ...  0.44082095  0.40919241\n",
      "  -0.18358291]\n",
      " ...\n",
      " [ 0.94148201  0.64426556 -1.11897491 ...  0.10419496  0.1215325\n",
      "  -0.34297257]\n",
      " [-0.76080487  0.6827188  -1.00780021 ...  1.01108636  0.81108554\n",
      "   0.88980931]\n",
      " [-5.20609906  3.92012265 -9.5660635  ... -1.1412922   0.32030633\n",
      "  -0.34297257]]\n",
      "[0 0 0 ... 0 1 1]\n"
     ]
    }
   ],
   "source": [
    "import mlflow\n",
    "logged_model = 'runs:/bdfd5bcf28a64516bffd40a06bb5b2e8/log_reg_model'\n",
    "\n",
    "# Load model as a PyFuncModel.\n",
    "loaded_model = mlflow.pyfunc.load_model(logged_model)\n",
    "\n",
    "# Predict on a Pandas DataFrame.\n",
    "import pandas as pd\n",
    "data = x_test\n",
    "print(data)\n",
    "print(loaded_model.predict(pd.DataFrame(data)))"
   ]
  },
  {
   "cell_type": "code",
   "execution_count": 12,
   "id": "b5830281",
   "metadata": {},
   "outputs": [],
   "source": [
    "# API Serving 명령어(터미널 창) : mlflow models serve --model-uri runs:/bdfd5bcf28a64516bffd40a06bb5b2e8/log_reg_model -p 1235"
   ]
  },
  {
   "cell_type": "code",
   "execution_count": 14,
   "outputs": [
    {
     "name": "stderr",
     "output_type": "stream",
     "text": [
      "WARNING: Ignoring invalid distribution -rotobuf (c:\\users\\jyshin\\anaconda3\\lib\\site-packages)\n"
     ]
    }
   ],
   "source": [
    "!pip freeze > requirements.txt"
   ],
   "metadata": {
    "collapsed": false
   }
  },
  {
   "cell_type": "code",
   "execution_count": null,
   "outputs": [],
   "source": [],
   "metadata": {
    "collapsed": false
   }
  }
 ],
 "metadata": {
  "kernelspec": {
   "display_name": "Python 3 (ipykernel)",
   "language": "python",
   "name": "python3"
  },
  "language_info": {
   "codemirror_mode": {
    "name": "ipython",
    "version": 3
   },
   "file_extension": ".py",
   "mimetype": "text/x-python",
   "name": "python",
   "nbconvert_exporter": "python",
   "pygments_lexer": "ipython3",
   "version": "3.9.7"
  }
 },
 "nbformat": 4,
 "nbformat_minor": 5
}
